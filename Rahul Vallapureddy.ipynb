{
 "cells": [
  {
   "cell_type": "code",
   "execution_count": null,
   "id": "704c5fd6",
   "metadata": {},
   "outputs": [],
   "source": [
    "import pandas as pd \n",
    "df = pd.read_csv('student-mat.csv')\n",
    "df .head(5)"
   ]
  },
  {
   "cell_type": "code",
   "execution_count": null,
   "id": "bb0cb5ff",
   "metadata": {
    "scrolled": true
   },
   "outputs": [],
   "source": [
    "sampled = df.sample(n=10)\n",
    "sampled"
   ]
  },
  {
   "cell_type": "markdown",
   "id": "5efa0c92",
   "metadata": {},
   "source": [
    "numeric  :age,Medu,Fedu,traveltime,studytime,failures,famrel,freetime,goout,Dalc,walc,health,absences\n",
    "binary   :school,sex,address,famsize,Pstatus,schoolup,famsup,paid,activities,nursery,higher,internet,romatice,\n",
    "nominal  :Mjob,Fjob,reason,guardian\n"
   ]
  },
  {
   "cell_type": "code",
   "execution_count": null,
   "id": "20b7304a",
   "metadata": {},
   "outputs": [],
   "source": [
    "print(df.sex.unique())\n",
    "print(df.famsize.unique())\n",
    "print(df.guardian.unique())"
   ]
  },
  {
   "cell_type": "code",
   "execution_count": null,
   "id": "43dd47d6",
   "metadata": {},
   "outputs": [],
   "source": [
    "df = df.replace({\n",
    "    'sex': {'F': 1, 'M':0},\n",
    "    'famsize': {'GT3': 1, 'LE3': 0}\n",
    "                })\n",
    "df.head(10)"
   ]
  },
  {
   "cell_type": "code",
   "execution_count": null,
   "id": "17bebe8c",
   "metadata": {},
   "outputs": [],
   "source": [
    "#List all the other columns that need to be converted to numeric values\n",
    "#For each of the values you listed above, what are the binary variables and what are the nominal variables and ordinal variables? (5 pts)\n",
    "# Write a code to transform the given data set to a numeric table\n",
    "df = df.replace({\n",
    "    'Pstatus' : {'A': 1, 'T': 0},\n",
    "    'school' : {'GP': 1, 'MS': 0},\n",
    "    'address' : {'U': 1, 'R' :0},\n",
    "    'schoolsup' :{'yes': 1, 'no' :0},\n",
    "    'paid' :{'yes': 1, 'no' :0},\n",
    "    'activities' :{'yes': 1, 'no' :0},\n",
    "    'higher' :{'yes': 1, 'no' :0}\n",
    "                })\n",
    "df.head(10)"
   ]
  },
  {
   "cell_type": "code",
   "execution_count": null,
   "id": "e03029c9",
   "metadata": {
    "scrolled": true
   },
   "outputs": [],
   "source": [
    "df = df.replace({\n",
    "    'nursery' : {'yes' : 1, 'no':0},\n",
    "    'internet' :{'yes' : 1, 'no':0},\n",
    "    'romantic' :{'yes' :1, 'no':0},\n",
    "    'famsup' :{'yes' :1, 'no':0}\n",
    "                 })\n",
    "df.head(5)"
   ]
  },
  {
   "cell_type": "code",
   "execution_count": null,
   "id": "00291a10",
   "metadata": {},
   "outputs": [],
   "source": [
    "df = pd.get_dummies(df ,columns=[\"Mjob\",\"Fjob\",\"reason\"])\n",
    "df.head(5)"
   ]
  },
  {
   "cell_type": "code",
   "execution_count": null,
   "id": "a2db7693",
   "metadata": {},
   "outputs": [],
   "source": [
    "#Other than absences, what else can be discretized? (5 pts)\n",
    "#Please discretize the column. (10 pts\n",
    "df.absences.plot(kind='hist', bins=25)"
   ]
  },
  {
   "cell_type": "code",
   "execution_count": null,
   "id": "9083043d",
   "metadata": {},
   "outputs": [],
   "source": [
    "df.absences.describe()"
   ]
  },
  {
   "cell_type": "code",
   "execution_count": null,
   "id": "dbd060ae",
   "metadata": {},
   "outputs": [],
   "source": [
    "absences_discretized = pd.cut(df.absences, [0,1,5,15, float(\"inf\")], labels=[0,1,2,3], right=False)\n",
    "print(absences_discretized)"
   ]
  },
  {
   "cell_type": "code",
   "execution_count": null,
   "id": "fbbbb1e2",
   "metadata": {},
   "outputs": [],
   "source": [
    "df['absences_discretized'] = absences_discretized.astype('int')\n",
    "df = df.drop(columns='absences')\n",
    "df.head(5)"
   ]
  },
  {
   "cell_type": "code",
   "execution_count": null,
   "id": "59ac13c4",
   "metadata": {},
   "outputs": [],
   "source": [
    "df.age.plot(kind='hist', bins=25)"
   ]
  },
  {
   "cell_type": "code",
   "execution_count": null,
   "id": "cb7e6da0",
   "metadata": {},
   "outputs": [],
   "source": [
    "df.age.describe()"
   ]
  },
  {
   "cell_type": "code",
   "execution_count": null,
   "id": "1fa4ea5b",
   "metadata": {},
   "outputs": [],
   "source": [
    "age_discretized = pd.cut(df.health, [0,1,5,15, float(\"inf\")], labels=[0,1,2,3], right=False)\n",
    "print(age_discretized)"
   ]
  },
  {
   "cell_type": "code",
   "execution_count": null,
   "id": "d7839600",
   "metadata": {},
   "outputs": [],
   "source": [
    "df['age_discretized'] = age_discretized.astype('int')\n",
    "df.head(5)"
   ]
  },
  {
   "cell_type": "code",
   "execution_count": null,
   "id": "cd659296",
   "metadata": {},
   "outputs": [],
   "source": [
    "G_agg = df[ ['G1', 'G2', 'G3'] ].agg('mean', axis='columns')\n",
    "print(G_agg)"
   ]
  },
  {
   "cell_type": "code",
   "execution_count": null,
   "id": "d9472a02",
   "metadata": {},
   "outputs": [],
   "source": [
    "df['G_agg'] = G_agg\n",
    "df.head(5)"
   ]
  },
  {
   "cell_type": "code",
   "execution_count": null,
   "id": "838e7332",
   "metadata": {},
   "outputs": [],
   "source": [
    "df.groupby('Walc').mean()"
   ]
  },
  {
   "cell_type": "code",
   "execution_count": null,
   "id": "ce6d7e00",
   "metadata": {},
   "outputs": [],
   "source": [
    "df.groupby(['Walc', 'sex','age']).mean()"
   ]
  },
  {
   "cell_type": "code",
   "execution_count": null,
   "id": "1dfb9bec",
   "metadata": {},
   "outputs": [],
   "source": [
    "#Calculate the mean, medium, and standard deviation of age and G_agg\n",
    "age_mean = df [\"age\"].mean()\n",
    "age_median = df [\"age\"].median()\n",
    "age_std = df [\"age\"].std()\n",
    "print (age_mean)\n",
    "print(age_median)\n",
    "print(age_std)"
   ]
  },
  {
   "cell_type": "code",
   "execution_count": null,
   "id": "7aeddecf",
   "metadata": {},
   "outputs": [],
   "source": [
    "G_agg_mean = df [\"G_agg\"]. mean ()\n",
    "G_agg_median = df [\"G_agg\"]. median ()\n",
    "G_agg_std = df [\"G_agg\"].std()\n",
    "print(G_agg_mean)\n",
    "print(G_agg_median)\n",
    "print(G_agg_std)"
   ]
  },
  {
   "cell_type": "code",
   "execution_count": null,
   "id": "4f88ad15",
   "metadata": {},
   "outputs": [],
   "source": [
    "#Draw the boxplots for age and G_agg. \n",
    "boxplot = df.boxplot(column=['age', 'G_agg'])"
   ]
  },
  {
   "cell_type": "code",
   "execution_count": null,
   "id": "ebc08e77",
   "metadata": {},
   "outputs": [],
   "source": [
    "df.corr() < - 0.8"
   ]
  },
  {
   "cell_type": "markdown",
   "id": "d82e666e",
   "metadata": {},
   "source": [
    "#After you transform all values into numeric values, calculate the correlation of columns for the new table. (20 pts)\n",
    "#Describe your findings. Below are some example findings that you could describe in your findings. (10 pts) \n",
    "#What are the variables that are most correlated with a student's performance?\n",
    "#What are the variables that are most correlated with student alcohol consumption"
   ]
  },
  {
   "cell_type": "code",
   "execution_count": null,
   "id": "4c658b47",
   "metadata": {},
   "outputs": [],
   "source": [
    "import plotly.express as px\n",
    "import pandas as pd\n",
    "\n",
    "df = pd.read_csv('student-mat.csv')\n",
    "\n",
    "fig = px.imshow(df.corr(), color_continuous_scale='YlGnBu')\n",
    "fig.update_layout(\n",
    "    title='Correlation Between Features',\n",
    "    width=700, height=700,\n",
    "    font=dict(size=15)\n",
    ")\n",
    "fig.show()"
   ]
  },
  {
   "cell_type": "markdown",
   "id": "52d31710",
   "metadata": {},
   "source": []
  },
  {
   "cell_type": "markdown",
   "id": "aabbfe7d",
   "metadata": {},
   "source": [
    "output:\n",
    "In the correlation matrix, you can find the Pearson correlation coefficient for each pair of columns in the data frame. A -1 coefficient and something have a negative relationship, a 0 coefficient and something have no relationship, and a +1 coefficient and something have a strong relationship.\n",
    "\n",
    "Students' performance (G agg) is linked to things like how educated their parents are, how much time they spend studying, how excited they are to keep learning, and whether or not they have internet at home. This means that the more education their parents have, the better off their children are. It is the opposite of setbacks, time away from home, and hanging out with friends.\n",
    "\n",
    "Walc and Dalc found a link between how well students do in school, how much they hang out with their friends, and how much they spend time alone. As these things have gotten worse, there has been a rise in the number of students who drink before they are of age."
   ]
  }
 ],
 "metadata": {
  "kernelspec": {
   "display_name": "base",
   "language": "python",
   "name": "python3"
  },
  "language_info": {
   "codemirror_mode": {
    "name": "ipython",
    "version": 3
   },
   "file_extension": ".py",
   "mimetype": "text/x-python",
   "name": "python",
   "nbconvert_exporter": "python",
   "pygments_lexer": "ipython3",
   "version": "3.9.12"
  },
  "vscode": {
   "interpreter": {
    "hash": "220fae48ee6aa06a15b0a194b915ad59277734e5bd52415b52439bc6d564df3a"
   }
  }
 },
 "nbformat": 4,
 "nbformat_minor": 5
}
